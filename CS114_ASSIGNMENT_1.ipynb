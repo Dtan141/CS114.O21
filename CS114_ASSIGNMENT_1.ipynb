{
  "nbformat": 4,
  "nbformat_minor": 0,
  "metadata": {
    "colab": {
      "provenance": [],
      "authorship_tag": "ABX9TyOQH+2iT70XNuIGBK+tYhly",
      "include_colab_link": true
    },
    "kernelspec": {
      "name": "python3",
      "display_name": "Python 3"
    },
    "language_info": {
      "name": "python"
    }
  },
  "cells": [
    {
      "cell_type": "markdown",
      "metadata": {
        "id": "view-in-github",
        "colab_type": "text"
      },
      "source": [
        "<a href=\"https://colab.research.google.com/github/Dtan141/CS114.O21/blob/main/CS114_ASSIGNMENT_1.ipynb\" target=\"_parent\"><img src=\"https://colab.research.google.com/assets/colab-badge.svg\" alt=\"Open In Colab\"/></a>"
      ]
    },
    {
      "cell_type": "markdown",
      "source": [
        "IS ADMISSIBLE OVERPAY\n",
        "```\n",
        "# Nhập giá trị cho table\n",
        "table = [list(map(int, input().split())) for _ in range(3)]\n",
        "\n",
        "# Nhập số lần bốc\n",
        "n = int(input())\n",
        "\n",
        "# Nhập giá trị mỗi lần bốc\n",
        "picked_list = [int(input()) for _ in range(n)]\n",
        "\n",
        "# Tạo tập hợp các vị trí bingo\n",
        "bingo_index = {str(i)+str(j) for i in range(3) for j in range(3) if table[i][j] in picked_list}\n",
        "\n",
        "# Khai báo các case\n",
        "case_list = [\n",
        "    {'00','10','20'},\n",
        "    {'01','11','21'},\n",
        "    {'02','12','22'},\n",
        "    {'00','01','02'},\n",
        "    {'10','11','12'},\n",
        "    {'20','21','22'},\n",
        "    {'00','11','22'},\n",
        "    {'02','11','20'}\n",
        "]\n",
        "\n",
        "# Hàm kiểm tra\n",
        "def check(case, bingo_index):\n",
        "    return case.issubset(bingo_index)\n",
        "\n",
        "# Chạy cho tất cả các case\n",
        "result = False\n",
        "for case in case_list:\n",
        "    if check(case, bingo_index):\n",
        "        result = True\n",
        "print('Yes') if result else print('No')\n",
        "```"
      ],
      "metadata": {
        "id": "pRTqrXeQZ40g"
      }
    },
    {
      "cell_type": "markdown",
      "source": [
        "TRẠM GA\n",
        "```\n",
        "str1 = input()\n",
        "str2 = input()\n",
        "count = 0\n",
        "\n",
        "for i,j in zip(str1, str2):\n",
        "    if i == '#':\n",
        "        count += 1\n",
        "    if j == '#':\n",
        "        count += 1\n",
        "if count == 2 and ((str1[0] == '#' and str2[1] == '#') or (str1[1] == '#' and str2[0] == '#')):\n",
        "    print('No')\n",
        "else:\n",
        "    print('Yes')\n",
        "```"
      ],
      "metadata": {
        "id": "uZ0CTDtFajzC"
      }
    },
    {
      "cell_type": "markdown",
      "source": [
        "BÌNH ĐI MUA TABLET\n",
        "```\n",
        "import sys\n",
        "import math\n",
        "\n",
        "n = int(float(sys.stdin.readline()))\n",
        "count = 0\n",
        "des = int(n / math.sqrt(2))\n",
        "for a in range(des, n):\n",
        "    b = math.sqrt((n ** 2 - a ** 2))\n",
        "    if b == int(b):\n",
        "        count += 1\n",
        "print(count)\n",
        "```\n",
        "\n"
      ],
      "metadata": {
        "id": "X8JlgdHbao5S"
      }
    },
    {
      "cell_type": "markdown",
      "source": [
        "IS ADMISSIBLE OVERPAY\n",
        "```\n",
        "import re\n",
        "import sys\n",
        "\n",
        "def find_discount(ads):\n",
        "    regex = r\"\\d+\\.\\d+\"\n",
        "    result = re.findall(regex, ads)\n",
        "\n",
        "    return float(result[0])/100\n",
        "\n",
        "def decide_shopping_method(ads):\n",
        "    if re.search(r\"lower\", ads):\n",
        "        return True # online shopping is cheaper\n",
        "    return False\n",
        "\n",
        "def find_total_cost(pri, ads):\n",
        "    online_cost = 0\n",
        "    offline_cost = 0\n",
        "\n",
        "    for i, j in zip(pri, ads):\n",
        "        try:\n",
        "            discount = find_discount(j)\n",
        "        except: continue\n",
        "        if decide_shopping_method(j):\n",
        "            online_cost += i - i*discount\n",
        "            offline_cost += i\n",
        "        else:\n",
        "            online_cost += i + i*discount\n",
        "            offline_cost += i\n",
        "    if offline_cost < online_cost:\n",
        "      return offline_cost\n",
        "    return online_cost\n",
        "\n",
        "ads = []\n",
        "price = list(map(int, sys.stdin.readline().split()))\n",
        "for _ in range(len(price)):\n",
        "    temp = sys.stdin.readline()\n",
        "    ads.append(temp)\n",
        "budget = int(sys.stdin.readline())\n",
        "\n",
        "if find_total_cost(price, ads) <= budget:\n",
        "    print('true')\n",
        "else:\n",
        "    print('false')\n",
        "```"
      ],
      "metadata": {
        "id": "9tI0w8KbbLOH"
      }
    },
    {
      "cell_type": "markdown",
      "source": [
        "ĐẢO CHUỖI\n",
        "```\n",
        "import sys\n",
        "\n",
        "def check_reverse(given_str, check_str):\n",
        "    len_gv_str = len(given_str)\n",
        "    len_ck_str = len(check_str)\n",
        "    if len_gv_str != len_ck_str or len_gv_str < 3 or len_ck_str < 3:\n",
        "        return False\n",
        "    \n",
        "    gv_odd_elements = sorted([given_str[i] for i in range(1, len_gv_str, 2)])\n",
        "    ck_odd_elements = sorted([check_str[i] for i in range(1, len_gv_str, 2)])\n",
        "    gv_even_elements = sorted([given_str[i] for i in range(0, len_gv_str, 2)])\n",
        "    ck_even_elements = sorted([check_str[i] for i in range(0, len_gv_str, 2)])  \n",
        "\n",
        "    if gv_odd_elements == ck_odd_elements and gv_even_elements == ck_even_elements:\n",
        "        return True\n",
        "    return False\n",
        "\n",
        "ini_str = []\n",
        "check_str = []\n",
        "num_of_test = int(sys.stdin.readline())\n",
        "for _ in range(num_of_test):\n",
        "    ini_str.append(sys.stdin.readline())\n",
        "    check_str.append(sys.stdin.readline())\n",
        "for i in range(num_of_test):\n",
        "    print('YES') if check_reverse(ini_str[i], check_str[i]) else print('NO')\n",
        "```"
      ],
      "metadata": {
        "id": "tXzrJx9rrwRM"
      }
    }
  ]
}